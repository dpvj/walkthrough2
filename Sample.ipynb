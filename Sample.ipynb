{
 "cells": [
  {
   "cell_type": "markdown",
   "id": "e0007c7f-9433-469a-952b-4243153d75d4",
   "metadata": {
    "tags": []
   },
   "source": [
    "# Walkthrough Sample Notebook"
   ]
  },
  {
   "cell_type": "markdown",
   "id": "518dc06a-03f7-4cbf-87b5-59261ec46790",
   "metadata": {},
   "source": [
    "Here is how I calculate '1+1' :"
   ]
  },
  {
   "cell_type": "code",
   "execution_count": 1,
   "id": "1bd897bc-d1ed-4ff0-aaa8-3a248b8e8cf2",
   "metadata": {},
   "outputs": [
    {
     "data": {
      "text/plain": [
       "2"
      ]
     },
     "execution_count": 1,
     "metadata": {},
     "output_type": "execute_result"
    }
   ],
   "source": [
    "1+1"
   ]
  },
  {
   "cell_type": "code",
   "execution_count": 2,
   "id": "04abea25-e83a-4643-a095-c86260390d93",
   "metadata": {},
   "outputs": [],
   "source": [
    "from numpy import *"
   ]
  },
  {
   "cell_type": "markdown",
   "id": "8afdca4d-601f-4ddd-bed7-9c1c9e412ef6",
   "metadata": {
    "tags": []
   },
   "source": [
    "Here is how i calculate 'sin'"
   ]
  },
  {
   "cell_type": "code",
   "execution_count": 3,
   "id": "6b9ee8f8-1390-484a-b6f5-efa1bab7d78b",
   "metadata": {},
   "outputs": [
    {
     "data": {
      "text/plain": [
       "array([0.84147098, 1.        ])"
      ]
     },
     "execution_count": 3,
     "metadata": {},
     "output_type": "execute_result"
    }
   ],
   "source": [
    "a = array([1.0, pi/2])\n",
    "sin(a)"
   ]
  },
  {
   "cell_type": "code",
   "execution_count": null,
   "id": "17cf9706-8220-4023-a20b-37e185657b63",
   "metadata": {},
   "outputs": [],
   "source": []
  }
 ],
 "metadata": {
  "kernelspec": {
   "display_name": "Python 3 (ipykernel)",
   "language": "python",
   "name": "python3"
  },
  "language_info": {
   "codemirror_mode": {
    "name": "ipython",
    "version": 3
   },
   "file_extension": ".py",
   "mimetype": "text/x-python",
   "name": "python",
   "nbconvert_exporter": "python",
   "pygments_lexer": "ipython3",
   "version": "3.9.10"
  }
 },
 "nbformat": 4,
 "nbformat_minor": 5
}
